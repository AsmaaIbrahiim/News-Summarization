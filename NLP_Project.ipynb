{
  "nbformat": 4,
  "nbformat_minor": 0,
  "metadata": {
    "colab": {
      "name": "NLP_Project.ipynb",
      "provenance": [],
      "collapsed_sections": []
    },
    "kernelspec": {
      "name": "python3",
      "display_name": "Python 3"
    },
    "language_info": {
      "name": "python"
    }
  },
  "cells": [
    {
      "cell_type": "code",
      "metadata": {
        "id": "fjMid0NEDWc7"
      },
      "source": [
        "import pandas as pd"
      ],
      "execution_count": 1,
      "outputs": []
    },
    {
      "cell_type": "markdown",
      "metadata": {
        "id": "vL7DF13QhZA9"
      },
      "source": [
        "Importing datasets"
      ]
    },
    {
      "cell_type": "code",
      "metadata": {
        "id": "shMSrnZIIDhI"
      },
      "source": [
        "# Import PyDrive and associated libraries.\n",
        "# This only needs to be done once per notebook.\n",
        "from pydrive.auth import GoogleAuth\n",
        "from pydrive.drive import GoogleDrive\n",
        "from google.colab import auth\n",
        "from oauth2client.client import GoogleCredentials\n",
        "\n",
        "# Authenticate and create the PyDrive client.\n",
        "# This only needs to be done once per notebook.\n",
        "auth.authenticate_user()\n",
        "gauth = GoogleAuth()\n",
        "gauth.credentials = GoogleCredentials.get_application_default()\n",
        "drive = GoogleDrive(gauth)\n",
        "\n",
        "# Download a file based on its file ID.\n",
        "#\n",
        "# A file ID looks like: laggVyWshwcyP6kEI-y_W3P8D26sz\n",
        "file_id = '1elNqcb5tW9snmf-xRfMK0AvLUfEcOhC1'\n",
        "downloaded = drive.CreateFile({'id': file_id})\n",
        "downloaded.GetContentFile('news_summary.csv')\n",
        "file_id = '1rAKmHTbGPOeuREC7Olk5oNHjNrdFHKkz'\n",
        "downloaded = drive.CreateFile({'id': file_id})\n",
        "downloaded.GetContentFile('news_summary_more.csv')"
      ],
      "execution_count": 2,
      "outputs": []
    },
    {
      "cell_type": "code",
      "metadata": {
        "id": "YJhwSyeIC9ud"
      },
      "source": [
        "data = pd.read_csv('news_summary.csv', encoding='latin-1') #check encodings types\n",
        "more_data = pd.read_csv('news_summary_more.csv', encoding='latin-1')"
      ],
      "execution_count": 3,
      "outputs": []
    },
    {
      "cell_type": "markdown",
      "metadata": {
        "id": "eWGlO_SasW6q"
      },
      "source": [
        "#Exploring the datasets"
      ]
    },
    {
      "cell_type": "markdown",
      "metadata": {
        "id": "RDu_47Eesb2E"
      },
      "source": [
        "## news_summary dataset\n"
      ]
    },
    {
      "cell_type": "code",
      "metadata": {
        "colab": {
          "base_uri": "https://localhost:8080/"
        },
        "id": "H2FiIOaHih6H",
        "outputId": "2c8eec6c-8313-4e3f-bd5c-180dc12c270a"
      },
      "source": [
        "data.info()"
      ],
      "execution_count": 4,
      "outputs": [
        {
          "output_type": "stream",
          "text": [
            "<class 'pandas.core.frame.DataFrame'>\n",
            "RangeIndex: 4514 entries, 0 to 4513\n",
            "Data columns (total 6 columns):\n",
            " #   Column     Non-Null Count  Dtype \n",
            "---  ------     --------------  ----- \n",
            " 0   author     4514 non-null   object\n",
            " 1   date       4514 non-null   object\n",
            " 2   headlines  4514 non-null   object\n",
            " 3   read_more  4514 non-null   object\n",
            " 4   text       4514 non-null   object\n",
            " 5   ctext      4396 non-null   object\n",
            "dtypes: object(6)\n",
            "memory usage: 211.7+ KB\n"
          ],
          "name": "stdout"
        }
      ]
    },
    {
      "cell_type": "markdown",
      "metadata": {
        "id": "kEdUyv0Vvr2V"
      },
      "source": [
        "Nan values is found in the complete text "
      ]
    },
    {
      "cell_type": "code",
      "metadata": {
        "colab": {
          "base_uri": "https://localhost:8080/",
          "height": 278
        },
        "id": "dCH9IBOSDbBg",
        "outputId": "c9d495bb-0507-4bce-d75b-cd6daae6147e"
      },
      "source": [
        "data.head()"
      ],
      "execution_count": 5,
      "outputs": [
        {
          "output_type": "execute_result",
          "data": {
            "text/html": [
              "<div>\n",
              "<style scoped>\n",
              "    .dataframe tbody tr th:only-of-type {\n",
              "        vertical-align: middle;\n",
              "    }\n",
              "\n",
              "    .dataframe tbody tr th {\n",
              "        vertical-align: top;\n",
              "    }\n",
              "\n",
              "    .dataframe thead th {\n",
              "        text-align: right;\n",
              "    }\n",
              "</style>\n",
              "<table border=\"1\" class=\"dataframe\">\n",
              "  <thead>\n",
              "    <tr style=\"text-align: right;\">\n",
              "      <th></th>\n",
              "      <th>author</th>\n",
              "      <th>date</th>\n",
              "      <th>headlines</th>\n",
              "      <th>read_more</th>\n",
              "      <th>text</th>\n",
              "      <th>ctext</th>\n",
              "    </tr>\n",
              "  </thead>\n",
              "  <tbody>\n",
              "    <tr>\n",
              "      <th>0</th>\n",
              "      <td>Chhavi Tyagi</td>\n",
              "      <td>03 Aug 2017,Thursday</td>\n",
              "      <td>Daman &amp; Diu revokes mandatory Rakshabandhan in...</td>\n",
              "      <td>http://www.hindustantimes.com/india-news/raksh...</td>\n",
              "      <td>The Administration of Union Territory Daman an...</td>\n",
              "      <td>The Daman and Diu administration on Wednesday ...</td>\n",
              "    </tr>\n",
              "    <tr>\n",
              "      <th>1</th>\n",
              "      <td>Daisy Mowke</td>\n",
              "      <td>03 Aug 2017,Thursday</td>\n",
              "      <td>Malaika slams user who trolled her for 'divorc...</td>\n",
              "      <td>http://www.hindustantimes.com/bollywood/malaik...</td>\n",
              "      <td>Malaika Arora slammed an Instagram user who tr...</td>\n",
              "      <td>From her special numbers to TV?appearances, Bo...</td>\n",
              "    </tr>\n",
              "    <tr>\n",
              "      <th>2</th>\n",
              "      <td>Arshiya Chopra</td>\n",
              "      <td>03 Aug 2017,Thursday</td>\n",
              "      <td>'Virgin' now corrected to 'Unmarried' in IGIMS...</td>\n",
              "      <td>http://www.hindustantimes.com/patna/bihar-igim...</td>\n",
              "      <td>The Indira Gandhi Institute of Medical Science...</td>\n",
              "      <td>The Indira Gandhi Institute of Medical Science...</td>\n",
              "    </tr>\n",
              "    <tr>\n",
              "      <th>3</th>\n",
              "      <td>Sumedha Sehra</td>\n",
              "      <td>03 Aug 2017,Thursday</td>\n",
              "      <td>Aaj aapne pakad liya: LeT man Dujana before be...</td>\n",
              "      <td>http://indiatoday.intoday.in/story/abu-dujana-...</td>\n",
              "      <td>Lashkar-e-Taiba's Kashmir commander Abu Dujana...</td>\n",
              "      <td>Lashkar-e-Taiba's Kashmir commander Abu Dujana...</td>\n",
              "    </tr>\n",
              "    <tr>\n",
              "      <th>4</th>\n",
              "      <td>Aarushi Maheshwari</td>\n",
              "      <td>03 Aug 2017,Thursday</td>\n",
              "      <td>Hotel staff to get training to spot signs of s...</td>\n",
              "      <td>http://indiatoday.intoday.in/story/sex-traffic...</td>\n",
              "      <td>Hotels in Maharashtra will train their staff t...</td>\n",
              "      <td>Hotels in Mumbai and other Indian cities are t...</td>\n",
              "    </tr>\n",
              "  </tbody>\n",
              "</table>\n",
              "</div>"
            ],
            "text/plain": [
              "               author  ...                                              ctext\n",
              "0        Chhavi Tyagi  ...  The Daman and Diu administration on Wednesday ...\n",
              "1         Daisy Mowke  ...  From her special numbers to TV?appearances, Bo...\n",
              "2      Arshiya Chopra  ...  The Indira Gandhi Institute of Medical Science...\n",
              "3       Sumedha Sehra  ...  Lashkar-e-Taiba's Kashmir commander Abu Dujana...\n",
              "4  Aarushi Maheshwari  ...  Hotels in Mumbai and other Indian cities are t...\n",
              "\n",
              "[5 rows x 6 columns]"
            ]
          },
          "metadata": {
            "tags": []
          },
          "execution_count": 5
        }
      ]
    },
    {
      "cell_type": "code",
      "metadata": {
        "colab": {
          "base_uri": "https://localhost:8080/"
        },
        "id": "1Tcsae0evIu9",
        "outputId": "fa446458-bba1-4b5d-bc4f-7a6809927774"
      },
      "source": [
        "duplicateRows1 = data[data.duplicated(subset=['ctext'])]\n",
        "print('complete text duplicates')\n",
        "print(duplicateRows1)"
      ],
      "execution_count": 6,
      "outputs": [
        {
          "output_type": "stream",
          "text": [
            "complete text duplicates\n",
            "                  author  ...                                              ctext\n",
            "42          Chhavi Tyagi  ...  The Daman and Diu administration on Wednesday ...\n",
            "190         Chhavi Tyagi  ...  Charges and counter charges flew in the Lok Sa...\n",
            "231   Niharika Prabhakar  ...                                                NaN\n",
            "286        Saloni Tandon  ...                                                NaN\n",
            "368         Chhavi Tyagi  ...  Bihar chief minister Nitish Kumar comfortably ...\n",
            "...                  ...  ...                                                ...\n",
            "4381        Chhavi Tyagi  ...  Rounding off a day of hectic electioneering in...\n",
            "4423      Mansha Mahajan  ...                                                NaN\n",
            "4454     Abhishek Bansal  ...                                                NaN\n",
            "4500      Mansha Mahajan  ...                                                NaN\n",
            "4508        Tarun Khanna  ...                                                NaN\n",
            "\n",
            "[172 rows x 6 columns]\n"
          ],
          "name": "stdout"
        }
      ]
    },
    {
      "cell_type": "code",
      "metadata": {
        "colab": {
          "base_uri": "https://localhost:8080/"
        },
        "id": "VRUpYpkQwNPE",
        "outputId": "4d9dbcfb-822f-4fdc-a40f-11a8e664bce1"
      },
      "source": [
        "print(str(data[4283:4284]['text']))\n",
        "print(str(data[4285:4286]['text']))"
      ],
      "execution_count": 7,
      "outputs": [
        {
          "output_type": "stream",
          "text": [
            "4283    Elections in Goa ended up in a hung Assembly, ...\n",
            "Name: text, dtype: object\n",
            "4285    Uttar Pradesh Chief Minister Akhilesh Yadav on...\n",
            "Name: text, dtype: object\n"
          ],
          "name": "stdout"
        }
      ]
    },
    {
      "cell_type": "markdown",
      "metadata": {
        "id": "oZI5hbvVcQ7_"
      },
      "source": [
        "**duplicates and Nans are found in the complete text attribute wich will not be used. The `'ctex'`column will be dropped any way and it is okay to have different summaries and headlines for the same ctext.**"
      ]
    },
    {
      "cell_type": "markdown",
      "metadata": {
        "id": "_tF9dYoxcvKC"
      },
      "source": [
        "**still need to look at examples of these duplicates to make sure**"
      ]
    },
    {
      "cell_type": "code",
      "metadata": {
        "colab": {
          "base_uri": "https://localhost:8080/"
        },
        "id": "0fRPNJrTvUl8",
        "outputId": "2c2a618e-c41d-4110-c273-8a05645e2059"
      },
      "source": [
        "duplicateRows2 = data[data.duplicated(subset=['text'])]\n",
        "print('summary text duplicates',duplicateRows2)\n"
      ],
      "execution_count": 8,
      "outputs": [
        {
          "output_type": "stream",
          "text": [
            "summary text duplicates Empty DataFrame\n",
            "Columns: [author, date, headlines, read_more, text, ctext]\n",
            "Index: []\n"
          ],
          "name": "stdout"
        }
      ]
    },
    {
      "cell_type": "code",
      "metadata": {
        "colab": {
          "base_uri": "https://localhost:8080/"
        },
        "id": "8j6X1IFxpdjg",
        "outputId": "d415cd53-772e-458c-c76c-2f932771c5dd"
      },
      "source": [
        "duplicateRows3 = data[data.duplicated(subset=['headlines'])]\n",
        "print('headlines duplicates',duplicateRows3)"
      ],
      "execution_count": 9,
      "outputs": [
        {
          "output_type": "stream",
          "text": [
            "headlines duplicates Empty DataFrame\n",
            "Columns: [author, date, headlines, read_more, text, ctext]\n",
            "Index: []\n"
          ],
          "name": "stdout"
        }
      ]
    },
    {
      "cell_type": "code",
      "metadata": {
        "colab": {
          "base_uri": "https://localhost:8080/",
          "height": 194
        },
        "id": "PGjDANaEl6fw",
        "outputId": "8ef99838-e61d-45e4-8615-2408b28f99a3"
      },
      "source": [
        "selected_features = data[['headlines','text']]\n",
        "selected_features.head()"
      ],
      "execution_count": 10,
      "outputs": [
        {
          "output_type": "execute_result",
          "data": {
            "text/html": [
              "<div>\n",
              "<style scoped>\n",
              "    .dataframe tbody tr th:only-of-type {\n",
              "        vertical-align: middle;\n",
              "    }\n",
              "\n",
              "    .dataframe tbody tr th {\n",
              "        vertical-align: top;\n",
              "    }\n",
              "\n",
              "    .dataframe thead th {\n",
              "        text-align: right;\n",
              "    }\n",
              "</style>\n",
              "<table border=\"1\" class=\"dataframe\">\n",
              "  <thead>\n",
              "    <tr style=\"text-align: right;\">\n",
              "      <th></th>\n",
              "      <th>headlines</th>\n",
              "      <th>text</th>\n",
              "    </tr>\n",
              "  </thead>\n",
              "  <tbody>\n",
              "    <tr>\n",
              "      <th>0</th>\n",
              "      <td>Daman &amp; Diu revokes mandatory Rakshabandhan in...</td>\n",
              "      <td>The Administration of Union Territory Daman an...</td>\n",
              "    </tr>\n",
              "    <tr>\n",
              "      <th>1</th>\n",
              "      <td>Malaika slams user who trolled her for 'divorc...</td>\n",
              "      <td>Malaika Arora slammed an Instagram user who tr...</td>\n",
              "    </tr>\n",
              "    <tr>\n",
              "      <th>2</th>\n",
              "      <td>'Virgin' now corrected to 'Unmarried' in IGIMS...</td>\n",
              "      <td>The Indira Gandhi Institute of Medical Science...</td>\n",
              "    </tr>\n",
              "    <tr>\n",
              "      <th>3</th>\n",
              "      <td>Aaj aapne pakad liya: LeT man Dujana before be...</td>\n",
              "      <td>Lashkar-e-Taiba's Kashmir commander Abu Dujana...</td>\n",
              "    </tr>\n",
              "    <tr>\n",
              "      <th>4</th>\n",
              "      <td>Hotel staff to get training to spot signs of s...</td>\n",
              "      <td>Hotels in Maharashtra will train their staff t...</td>\n",
              "    </tr>\n",
              "  </tbody>\n",
              "</table>\n",
              "</div>"
            ],
            "text/plain": [
              "                                           headlines                                               text\n",
              "0  Daman & Diu revokes mandatory Rakshabandhan in...  The Administration of Union Territory Daman an...\n",
              "1  Malaika slams user who trolled her for 'divorc...  Malaika Arora slammed an Instagram user who tr...\n",
              "2  'Virgin' now corrected to 'Unmarried' in IGIMS...  The Indira Gandhi Institute of Medical Science...\n",
              "3  Aaj aapne pakad liya: LeT man Dujana before be...  Lashkar-e-Taiba's Kashmir commander Abu Dujana...\n",
              "4  Hotel staff to get training to spot signs of s...  Hotels in Maharashtra will train their staff t..."
            ]
          },
          "metadata": {
            "tags": []
          },
          "execution_count": 10
        }
      ]
    },
    {
      "cell_type": "code",
      "metadata": {
        "colab": {
          "base_uri": "https://localhost:8080/"
        },
        "id": "_Ikxky5-1pt1",
        "outputId": "bccceee6-ef1d-4404-ff5d-381ddc8f56ac"
      },
      "source": [
        "selected_features.isnull().values.any()\n"
      ],
      "execution_count": 11,
      "outputs": [
        {
          "output_type": "execute_result",
          "data": {
            "text/plain": [
              "False"
            ]
          },
          "metadata": {
            "tags": []
          },
          "execution_count": 11
        }
      ]
    },
    {
      "cell_type": "markdown",
      "metadata": {
        "id": "hJInbTsxXnMb"
      },
      "source": [
        "**Small dataset is cleaned**"
      ]
    },
    {
      "cell_type": "markdown",
      "metadata": {
        "id": "Hfam8YdT16TF"
      },
      "source": [
        "## news_summary_more dataset\n",
        "\n",
        "\n"
      ]
    },
    {
      "cell_type": "code",
      "metadata": {
        "colab": {
          "base_uri": "https://localhost:8080/"
        },
        "id": "ed3S9A0hg8sM",
        "outputId": "aea80f0a-ed28-47d3-a1dc-4edac5ed5af8"
      },
      "source": [
        "more_data.info()"
      ],
      "execution_count": 12,
      "outputs": [
        {
          "output_type": "stream",
          "text": [
            "<class 'pandas.core.frame.DataFrame'>\n",
            "RangeIndex: 98401 entries, 0 to 98400\n",
            "Data columns (total 2 columns):\n",
            " #   Column     Non-Null Count  Dtype \n",
            "---  ------     --------------  ----- \n",
            " 0   headlines  98401 non-null  object\n",
            " 1   text       98401 non-null  object\n",
            "dtypes: object(2)\n",
            "memory usage: 1.5+ MB\n"
          ],
          "name": "stdout"
        }
      ]
    },
    {
      "cell_type": "code",
      "metadata": {
        "colab": {
          "base_uri": "https://localhost:8080/",
          "height": 194
        },
        "id": "TFR1400DinDP",
        "outputId": "bf3fd29d-a9c7-4511-be0c-1f2fa7a2ce23"
      },
      "source": [
        "more_data.head()"
      ],
      "execution_count": 13,
      "outputs": [
        {
          "output_type": "execute_result",
          "data": {
            "text/html": [
              "<div>\n",
              "<style scoped>\n",
              "    .dataframe tbody tr th:only-of-type {\n",
              "        vertical-align: middle;\n",
              "    }\n",
              "\n",
              "    .dataframe tbody tr th {\n",
              "        vertical-align: top;\n",
              "    }\n",
              "\n",
              "    .dataframe thead th {\n",
              "        text-align: right;\n",
              "    }\n",
              "</style>\n",
              "<table border=\"1\" class=\"dataframe\">\n",
              "  <thead>\n",
              "    <tr style=\"text-align: right;\">\n",
              "      <th></th>\n",
              "      <th>headlines</th>\n",
              "      <th>text</th>\n",
              "    </tr>\n",
              "  </thead>\n",
              "  <tbody>\n",
              "    <tr>\n",
              "      <th>0</th>\n",
              "      <td>upGrad learner switches to career in ML &amp; Al w...</td>\n",
              "      <td>Saurav Kant, an alumnus of upGrad and IIIT-B's...</td>\n",
              "    </tr>\n",
              "    <tr>\n",
              "      <th>1</th>\n",
              "      <td>Delhi techie wins free food from Swiggy for on...</td>\n",
              "      <td>Kunal Shah's credit card bill payment platform...</td>\n",
              "    </tr>\n",
              "    <tr>\n",
              "      <th>2</th>\n",
              "      <td>New Zealand end Rohit Sharma-led India's 12-ma...</td>\n",
              "      <td>New Zealand defeated India by 8 wickets in the...</td>\n",
              "    </tr>\n",
              "    <tr>\n",
              "      <th>3</th>\n",
              "      <td>Aegon life iTerm insurance plan helps customer...</td>\n",
              "      <td>With Aegon Life iTerm Insurance plan, customer...</td>\n",
              "    </tr>\n",
              "    <tr>\n",
              "      <th>4</th>\n",
              "      <td>Have known Hirani for yrs, what if MeToo claim...</td>\n",
              "      <td>Speaking about the sexual harassment allegatio...</td>\n",
              "    </tr>\n",
              "  </tbody>\n",
              "</table>\n",
              "</div>"
            ],
            "text/plain": [
              "                                           headlines                                               text\n",
              "0  upGrad learner switches to career in ML & Al w...  Saurav Kant, an alumnus of upGrad and IIIT-B's...\n",
              "1  Delhi techie wins free food from Swiggy for on...  Kunal Shah's credit card bill payment platform...\n",
              "2  New Zealand end Rohit Sharma-led India's 12-ma...  New Zealand defeated India by 8 wickets in the...\n",
              "3  Aegon life iTerm insurance plan helps customer...  With Aegon Life iTerm Insurance plan, customer...\n",
              "4  Have known Hirani for yrs, what if MeToo claim...  Speaking about the sexual harassment allegatio..."
            ]
          },
          "metadata": {
            "tags": []
          },
          "execution_count": 13
        }
      ]
    },
    {
      "cell_type": "code",
      "metadata": {
        "colab": {
          "base_uri": "https://localhost:8080/"
        },
        "id": "__ro-8pzTrO3",
        "outputId": "fb3d4d60-52e9-4f3d-8e0a-d3420a1bf3cc"
      },
      "source": [
        "duplicateRows_more = more_data[more_data.duplicated()]\n",
        "print(duplicateRows_more)"
      ],
      "execution_count": 28,
      "outputs": [
        {
          "output_type": "stream",
          "text": [
            "headlines duplicates                                                headlines                                               text\n",
            "51012  Longest Test innings was longer than 10 footba...  Former Pakistani cricketer Hanif Mohammad batt...\n",
            "53731  Captain once dropped himself, replacement brok...  England captain Mike Denness left himself out ...\n",
            "55374  India marks National Mathematics Day in memory...  National Mathematics Day is celebrated on Dece...\n",
            "58769  Indian bowler once took 2 hat-tricks in a sing...  Former Services' medium-pacer Joginder Rao pic...\n",
            "59705  Why is England-Australia Test series called 'T...  England was beaten at home for the first time ...\n",
            "60724  Sachin's debut was not telecast in India due t...  The Test in which Sachin Tendulkar made his in...\n",
            "60885  Who is the cricketer with longest known surnam...  Fijian cricketer Ilikena Lasarusa Talebulamain...\n",
            "62063  An ODI was once played in the middle of a Test...  Zimbabwe played an ODI against New Zealand in ...\n",
            "62575  Virat Kohli took a wicket on the 0th ball of h...  Virat Kohli dismissed England's Kevin Pieterse...\n",
            "63533  Bhabha convinced PM Nehru to start India's nuc...  Born on October 30, 1909, Padma Bhushan-awarde...\n",
            "64468  WeWork offers collaborative co-working space f...  WeWork is a platform for creators, which provi...\n",
            "69673  3 pairs of brothers once played for the same t...  The New Zealand-Zimbabwe Test, which started o...\n",
            "70249  Inzamam once attacked fan with bat for calling...  Former Pakistan captain Inzamam-ul-Haq attacke...\n",
            "70392  Warne rightly predicted India-Eng 2011 WC matc...  Before India-England 2011 World Cup match, for...\n",
            "74095  A solar eclipse once proved Einstein right, Ne...  English astronomer Arthur Eddington used 1919'...\n",
            "75349  Bradman averaged 101.39 before last Test, ende...  Legendary Australian batsman Donald Bradman ha...\n",
            "78244  1st player to hit 6 sixes in 1 over was born w...  Former Windies' cricketer Garry Sobers, the fi...\n",
            "78521  CARS24 enables car owners to sell their cars i...  CARS24 has enabled car owners to sell their ca...\n",
            "78522  Reebok launches FlexWeave technology in its la...  Reebok has launched FlexweaveÃ¢ÂÂan innovati...\n",
            "81352  Nikola Tesla once worked for his arch rival Th...  Born on July 10, 1856, Serbian inventor Nikola...\n",
            "84195  Northern Hemisphere witnesses longest day of t...  June 21 marks the beginning of summer in Earth...\n",
            "86430  Warne produced 'ball of century' with his 1st ...  Legendary Australian spinner Shane Warne bowle...\n"
          ],
          "name": "stdout"
        }
      ]
    },
    {
      "cell_type": "code",
      "metadata": {
        "colab": {
          "base_uri": "https://localhost:8080/"
        },
        "id": "GHOTAxtaVfwI",
        "outputId": "c1e9c12c-b2f0-4170-ec94-4a453350b245"
      },
      "source": [
        "more_data.drop_duplicates(inplace=True)\n",
        "duplicateRows_more = more_data[more_data.duplicated()]\n",
        "print(duplicateRows_more)"
      ],
      "execution_count": 30,
      "outputs": [
        {
          "output_type": "stream",
          "text": [
            "Empty DataFrame\n",
            "Columns: [headlines, text]\n",
            "Index: []\n"
          ],
          "name": "stdout"
        }
      ]
    },
    {
      "cell_type": "code",
      "metadata": {
        "colab": {
          "base_uri": "https://localhost:8080/",
          "height": 164
        },
        "id": "5BjVj5xPV0x2",
        "outputId": "d1234871-66b5-458f-8d10-798d21e9f43e"
      },
      "source": [
        "duplicateRows_more = more_data[0:10000][more_data[0:10000].duplicated(subset='headlines',keep = False)]\n",
        "duplicateRows_more"
      ],
      "execution_count": 40,
      "outputs": [
        {
          "output_type": "execute_result",
          "data": {
            "text/html": [
              "<div>\n",
              "<style scoped>\n",
              "    .dataframe tbody tr th:only-of-type {\n",
              "        vertical-align: middle;\n",
              "    }\n",
              "\n",
              "    .dataframe tbody tr th {\n",
              "        vertical-align: top;\n",
              "    }\n",
              "\n",
              "    .dataframe thead th {\n",
              "        text-align: right;\n",
              "    }\n",
              "</style>\n",
              "<table border=\"1\" class=\"dataframe\">\n",
              "  <thead>\n",
              "    <tr style=\"text-align: right;\">\n",
              "      <th></th>\n",
              "      <th>headlines</th>\n",
              "      <th>text</th>\n",
              "    </tr>\n",
              "  </thead>\n",
              "  <tbody>\n",
              "    <tr>\n",
              "      <th>23</th>\n",
              "      <td>Isha Ambani features on February cover of Vogu...</td>\n",
              "      <td>Reliance Industries' Chairman Mukesh Ambani's ...</td>\n",
              "    </tr>\n",
              "    <tr>\n",
              "      <th>24</th>\n",
              "      <td>Indian Oil looking for annual deal to buy crud...</td>\n",
              "      <td>Indian Oil Corporation on Wednesday said it's ...</td>\n",
              "    </tr>\n",
              "    <tr>\n",
              "      <th>3292</th>\n",
              "      <td>Isha Ambani features on February cover of Vogu...</td>\n",
              "      <td>Reliance Industries' Chairman Mukesh Ambani's ...</td>\n",
              "    </tr>\n",
              "    <tr>\n",
              "      <th>3293</th>\n",
              "      <td>Indian Oil looking for annual deal to buy crud...</td>\n",
              "      <td>Indian Oil Corporation on Wednesday said it's ...</td>\n",
              "    </tr>\n",
              "  </tbody>\n",
              "</table>\n",
              "</div>"
            ],
            "text/plain": [
              "                                              headlines                                               text\n",
              "23    Isha Ambani features on February cover of Vogu...  Reliance Industries' Chairman Mukesh Ambani's ...\n",
              "24    Indian Oil looking for annual deal to buy crud...  Indian Oil Corporation on Wednesday said it's ...\n",
              "3292  Isha Ambani features on February cover of Vogu...  Reliance Industries' Chairman Mukesh Ambani's ...\n",
              "3293  Indian Oil looking for annual deal to buy crud...  Indian Oil Corporation on Wednesday said it's ..."
            ]
          },
          "metadata": {
            "tags": []
          },
          "execution_count": 40
        }
      ]
    },
    {
      "cell_type": "markdown",
      "metadata": {
        "id": "-bFNMRqtUXNn"
      },
      "source": [
        "##All Data (the 2 datasets combined)"
      ]
    },
    {
      "cell_type": "code",
      "metadata": {
        "colab": {
          "base_uri": "https://localhost:8080/"
        },
        "id": "tLDxO5PDite7",
        "outputId": "c9364adc-6a0a-4e78-894c-19afc340dd10"
      },
      "source": [
        "all_data = pd.concat([selected_features, more_data], ignore_index=True)\n",
        "all_data.shape"
      ],
      "execution_count": 20,
      "outputs": [
        {
          "output_type": "execute_result",
          "data": {
            "text/plain": [
              "(102915, 2)"
            ]
          },
          "metadata": {
            "tags": []
          },
          "execution_count": 20
        }
      ]
    },
    {
      "cell_type": "code",
      "metadata": {
        "colab": {
          "base_uri": "https://localhost:8080/"
        },
        "id": "SIgzv5PYn3o4",
        "outputId": "7973bde1-974f-46be-aaf2-17081805e9a5"
      },
      "source": [
        "duplicateRowsDF = all_data[all_data.duplicated()]\n",
        "print(duplicateRowsDF)"
      ],
      "execution_count": 16,
      "outputs": [
        {
          "output_type": "stream",
          "text": [
            "                                                headlines                                               text\n",
            "55526   Longest Test innings was longer than 10 footba...  Former Pakistani cricketer Hanif Mohammad batt...\n",
            "58245   Captain once dropped himself, replacement brok...  England captain Mike Denness left himself out ...\n",
            "59888   India marks National Mathematics Day in memory...  National Mathematics Day is celebrated on Dece...\n",
            "63283   Indian bowler once took 2 hat-tricks in a sing...  Former Services' medium-pacer Joginder Rao pic...\n",
            "64219   Why is England-Australia Test series called 'T...  England was beaten at home for the first time ...\n",
            "...                                                   ...                                                ...\n",
            "102827  Shreya Ghoshal to get wax figure at Madame Tus...  Singer Shreya Ghoshal is set to get a wax figu...\n",
            "102841             Ranchi becomes India's 26th Test venue  Ranchi's JSCA Stadium has become India's 26th ...\n",
            "102847  Dhoni signs autograph mid-match for pitch-inva...  A fan ran onto the pitch and touched former In...\n",
            "102851  Donald Trump administration backs India's bid ...  The US on Wednesday said it is working with In...\n",
            "102857               Politics is not for me: Aamir Khan    Actor Aamir Khan has said that politics is not...\n",
            "\n",
            "[2649 rows x 2 columns]\n"
          ],
          "name": "stdout"
        }
      ]
    },
    {
      "cell_type": "code",
      "metadata": {
        "colab": {
          "base_uri": "https://localhost:8080/"
        },
        "id": "Sy16w3gKoFz8",
        "outputId": "43c3623e-7b38-4171-a52c-cfcebb6cdcc6"
      },
      "source": [
        "all_data.drop_duplicates(inplace=True)\n",
        "duplicateRowsDF = all_data[all_data.duplicated()]\n",
        "print(duplicateRowsDF)"
      ],
      "execution_count": 25,
      "outputs": [
        {
          "output_type": "stream",
          "text": [
            "Empty DataFrame\n",
            "Columns: [headlines, text]\n",
            "Index: []\n"
          ],
          "name": "stdout"
        }
      ]
    },
    {
      "cell_type": "code",
      "metadata": {
        "colab": {
          "base_uri": "https://localhost:8080/"
        },
        "id": "kU8LU6TlUrZC",
        "outputId": "1d05e688-aa80-410e-cf0e-0da8fb2035d1"
      },
      "source": [
        "duplicateRowsDF = all_data[all_data.duplicated(subset= 'text',keep = False)]\n",
        "print(duplicateRowsDF)"
      ],
      "execution_count": 26,
      "outputs": [
        {
          "output_type": "stream",
          "text": [
            "                                                headlines                                               text\n",
            "141     Qatar complaints to WTO against Saudi-led trad...  Qatar on Monday filed a legal complaint at the...\n",
            "169      Don?t make lynchistan out of Hindustan: Congress  Congress leader Mallikarjun Kharge on Monday s...\n",
            "176     PM Modi can?t take over states: Kiren Rijiju o...  Minister of State for Home Affairs, Kiren Riji...\n",
            "415     MP ?miracle baby? was buried alive by rape sur...  A baby boy, who survived after being buried al...\n",
            "645     Mithali Raj asks for women?s IPL after World C...  India women's team captain Mithali Raj called ...\n",
            "...                                                   ...                                                ...\n",
            "89562   IndiaÃ¢ÂÂs Red fort shown as PakistanÃ¢ÂÂs...  The Red Fort with the Indian tricolour was sho...\n",
            "95182   We are hopeful weÃ¢ÂÂll convince Vishwas: Ke...  Amid the ongoing rift in the Aam Aadmi Party, ...\n",
            "95189   DonÃ¢ÂÂt waste time, no vacancy for PM post ...  Union Minister Ram Vilas Paswan, whose party L...\n",
            "97886   Mark Zuckerberg is why IÃ¢ÂÂm walking, says ...  Facebook COO Sheryl Sandberg has said that the...\n",
            "100152  One who betrays his father, canÃ¢ÂÂt be othe...  Samajwadi Party Founder Mulayam Singh Yadav ha...\n",
            "\n",
            "[78 rows x 2 columns]\n"
          ],
          "name": "stdout"
        }
      ]
    },
    {
      "cell_type": "code",
      "metadata": {
        "colab": {
          "base_uri": "https://localhost:8080/"
        },
        "id": "dmIxL59TomsK",
        "outputId": "7efbf6ce-5751-4055-cd7f-8c21343c6931"
      },
      "source": [
        "all_data.isnull().values.any()\n"
      ],
      "execution_count": 19,
      "outputs": [
        {
          "output_type": "execute_result",
          "data": {
            "text/plain": [
              "False"
            ]
          },
          "metadata": {
            "tags": []
          },
          "execution_count": 19
        }
      ]
    }
  ]
}